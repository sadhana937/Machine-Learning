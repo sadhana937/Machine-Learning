{
 "cells": [
  {
   "cell_type": "code",
   "execution_count": 9,
   "id": "1e324682",
   "metadata": {},
   "outputs": [],
   "source": [
    "import tensorflow\n",
    "from tensorflow.keras.datasets import mnist\n",
    "from tensorflow.keras.models import Sequential\n",
    "from tensorflow.keras.layers import Dense, Dropout, Conv2D, MaxPooling2D, Flatten\n",
    "from tensorflow.keras.optimizers import RMSprop"
   ]
  },
  {
   "cell_type": "code",
   "execution_count": 10,
   "id": "6ae0a7f1",
   "metadata": {},
   "outputs": [],
   "source": [
    "(mnist_train_images,mnist_train_labels), (mnist_test_images, mnist_test_labels)=mnist.load_data()"
   ]
  },
  {
   "cell_type": "markdown",
   "id": "fe44c085",
   "metadata": {},
   "source": [
    "Here we input data as 2D images. Depending on the data format Keras is set up for this may be either 28x28x1 or 1x28x28 ( the '1' indicates a single color channel as this just a grayscale"
   ]
  },
  {
   "cell_type": "code",
   "execution_count": 11,
   "id": "6cd90e0a",
   "metadata": {},
   "outputs": [],
   "source": [
    "from tensorflow.keras import backend\n",
    "\n",
    "if backend.image_data_format() == 'channels_first':\n",
    "    train_images=mnist_train_images.reshape(mnist_train_images.shape[0],1,28,28)\n",
    "    test_images=mnist_test_images.reshape(mnist_test_images.shape[0],1,28,28)\n",
    "    input_shape =  (1, 28, 28)\n",
    "else:\n",
    "    train_images=mnist_train_images.reshape(mnist_train_images.shape[0],28,28,1)\n",
    "    test_images=mnist_test_images.reshape(mnist_test_images.shape[0],28,28,1)\n",
    "    input_shape =  (28, 28, 1)\n",
    "    \n",
    "train_images = train_images.astype('float32')\n",
    "test_images = test_images.astype('float32')\n",
    "train_images/=255\n",
    "test_images/=255\n",
    "    "
   ]
  },
  {
   "cell_type": "code",
   "execution_count": 12,
   "id": "2b139881",
   "metadata": {},
   "outputs": [],
   "source": [
    "train_labels = tensorflow.keras.utils.to_categorical(mnist_train_labels, 10)\n",
    "test_labels = tensorflow.keras.utils.to_categorical(mnist_test_labels, 10)"
   ]
  },
  {
   "cell_type": "markdown",
   "id": "4928c916",
   "metadata": {},
   "source": [
    "Printing one of the training images just to verify it's alright!"
   ]
  },
  {
   "cell_type": "code",
   "execution_count": 13,
   "id": "1aa917dd",
   "metadata": {},
   "outputs": [
    {
     "name": "stdout",
     "output_type": "stream",
     "text": [
      "[0. 1. 0. 0. 0. 0. 0. 0. 0. 0.]\n"
     ]
    },
    {
     "data": {
      "image/png": "[encoded data removed]",
      "text/plain": [
       "<Figure size 640x480 with 1 Axes>"
      ]
     },
     "metadata": {},
     "output_type": "display_data"
    }
   ],
   "source": [
    "import matplotlib.pyplot as plt\n",
    "\n",
    "def display(num):\n",
    "    print(train_labels[num])\n",
    "    label=train_labels[num].argmax(axis=0)\n",
    "    image=train_images[num].reshape([28,28])\n",
    "    plt.title('Sample: %d Label: %d' % (num,label))\n",
    "    plt.imshow(image,cmap=plt.get_cmap('gray_r'))\n",
    "    plt.show()\n",
    "    \n",
    "display(200)"
   ]
  },
  {
   "cell_type": "markdown",
   "id": "971b8592",
   "metadata": {},
   "source": [
    "Setting up the CNN:"
   ]
  },
  {
   "cell_type": "code",
   "execution_count": 14,
   "id": "8f24db8f",
   "metadata": {},
   "outputs": [],
   "source": [
    "model = Sequential()\n",
    "model.add(Conv2D(32, kernel_size=(3,3), activation='relu',\n",
    "                input_shape=input_shape))\n",
    "model.add(Conv2D(64, (3,3), activation='relu'))\n",
    "model.add(MaxPooling2D(pool_size=(2,2)))\n",
    "model.add(Dropout(0.3))\n",
    "model.add(Flatten())\n",
    "model.add(Dense(128, activation='relu'))\n",
    "model.add(Dropout(0.5))\n",
    "model.add(Dense(10, activation='softmax'))"
   ]
  },
  {
   "cell_type": "code",
   "execution_count": 15,
   "id": "99da378a",
   "metadata": {},
   "outputs": [],
   "source": [
    "model.compile(loss='categorical_crossentropy', optimizer='adam', metrics=['accuracy'])"
   ]
  },
  {
   "cell_type": "code",
   "execution_count": 16,
   "id": "f5f957d3",
   "metadata": {},
   "outputs": [
    {
     "name": "stdout",
     "output_type": "stream",
     "text": [
      "Epoch 1/10\n",
      "1875/1875 - 260s - loss: 0.1882 - accuracy: 0.9426 - val_loss: 0.0443 - val_accuracy: 0.9848 - 260s/epoch - 139ms/step\n",
      "Epoch 2/10\n",
      "1875/1875 - 258s - loss: 0.0798 - accuracy: 0.9768 - val_loss: 0.0382 - val_accuracy: 0.9877 - 258s/epoch - 137ms/step\n",
      "Epoch 3/10\n",
      "1875/1875 - 257s - loss: 0.0621 - accuracy: 0.9811 - val_loss: 0.0341 - val_accuracy: 0.9897 - 257s/epoch - 137ms/step\n",
      "Epoch 4/10\n",
      "1875/1875 - 260s - loss: 0.0513 - accuracy: 0.9843 - val_loss: 0.0359 - val_accuracy: 0.9889 - 260s/epoch - 139ms/step\n",
      "Epoch 5/10\n",
      "1875/1875 - 250s - loss: 0.0442 - accuracy: 0.9860 - val_loss: 0.0286 - val_accuracy: 0.9916 - 250s/epoch - 133ms/step\n",
      "Epoch 6/10\n",
      "1875/1875 - 184s - loss: 0.0380 - accuracy: 0.9887 - val_loss: 0.0278 - val_accuracy: 0.9913 - 184s/epoch - 98ms/step\n",
      "Epoch 7/10\n",
      "1875/1875 - 90s - loss: 0.0334 - accuracy: 0.9896 - val_loss: 0.0274 - val_accuracy: 0.9923 - 90s/epoch - 48ms/step\n",
      "Epoch 8/10\n",
      "1875/1875 - 95s - loss: 0.0302 - accuracy: 0.9905 - val_loss: 0.0256 - val_accuracy: 0.9918 - 95s/epoch - 51ms/step\n",
      "Epoch 9/10\n",
      "1875/1875 - 96s - loss: 0.0267 - accuracy: 0.9914 - val_loss: 0.0270 - val_accuracy: 0.9929 - 96s/epoch - 51ms/step\n",
      "Epoch 10/10\n",
      "1875/1875 - 96s - loss: 0.0251 - accuracy: 0.9922 - val_loss: 0.0337 - val_accuracy: 0.9918 - 96s/epoch - 51ms/step\n"
     ]
    }
   ],
   "source": [
    "history=model.fit(train_images, train_labels, batch_size=32, epochs=10, verbose=2, validation_data=(test_images,test_labels))"
   ]
  },
  {
   "cell_type": "code",
   "execution_count": 17,
   "id": "76674132",
   "metadata": {},
   "outputs": [
    {
     "name": "stdout",
     "output_type": "stream",
     "text": [
      "Test loss:  0.033711742609739304\n",
      "Test accuracy:  0.9918000102043152\n"
     ]
    }
   ],
   "source": [
    "score=model.evaluate(test_images, test_labels, verbose=0)\n",
    "print('Test loss: ',score[0])\n",
    "print('Test accuracy: ',score[1])"
   ]
  },
  {
   "cell_type": "code",
   "execution_count": null,
   "id": "43bf46f2",
   "metadata": {},
   "outputs": [],
   "source": []
  }
 ],
 "metadata": {
  "kernelspec": {
   "display_name": "Python 3 (ipykernel)",
   "language": "python",
   "name": "python3"
  },
  "language_info": {
   "codemirror_mode": {
    "name": "ipython",
    "version": 3
   },
   "file_extension": ".py",
   "mimetype": "text/x-python",
   "name": "python",
   "nbconvert_exporter": "python",
   "pygments_lexer": "ipython3",
   "version": "3.9.13"
  }
 },
 "nbformat": 4,
 "nbformat_minor": 5
}
