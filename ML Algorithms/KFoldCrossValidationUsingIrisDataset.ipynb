{
 "cells": [
  {
   "cell_type": "markdown",
   "id": "b0850434",
   "metadata": {},
   "source": [
    "## K-Fold Cross Vlidation using Iris Dataset\n"
   ]
  },
  {
   "cell_type": "code",
   "execution_count": 1,
   "id": "6f83c437",
   "metadata": {},
   "outputs": [],
   "source": [
    "import numpy as np\n",
    "from sklearn.model_selection import cross_val_score, train_test_split\n",
    "from sklearn import datasets\n",
    "from sklearn import svm\n"
   ]
  },
  {
   "cell_type": "code",
   "execution_count": 4,
   "id": "3dd9ad9c",
   "metadata": {},
   "outputs": [
    {
     "data": {
      "text/plain": [
       "0.9777777777777777"
      ]
     },
     "execution_count": 4,
     "metadata": {},
     "output_type": "execute_result"
    }
   ],
   "source": [
    "iris=datasets.load_iris()\n",
    "x_train,x_test,y_train,y_test=train_test_split(iris.data,iris.target,test_size=0.3,random_state=0)\n",
    "#building an SVC model to predict the iris classification\n",
    "clf=svm.SVC(kernel='linear',C=1).fit(x_train,y_train)\n",
    "clf.score(x_test,y_test)"
   ]
  },
  {
   "cell_type": "code",
   "execution_count": 7,
   "id": "d9204bcd",
   "metadata": {},
   "outputs": [
    {
     "name": "stdout",
     "output_type": "stream",
     "text": [
      "[1.         1.         1.         0.94736842 1.         0.94736842\n",
      " 1.         1.        ]\n",
      "0.9868421052631579\n"
     ]
    }
   ],
   "source": [
    "#now giving this model and other required attributes to cross_val_score\n",
    "scores=cross_val_score(clf,iris.data,iris.target,cv=8)\n",
    "print(scores)\n",
    "print(scores.mean())\n"
   ]
  },
  {
   "cell_type": "code",
   "execution_count": 9,
   "id": "8fa5fd23",
   "metadata": {},
   "outputs": [
    {
     "name": "stdout",
     "output_type": "stream",
     "text": [
      "[1.         0.94736842 1.         0.94736842 0.94736842 0.94736842\n",
      " 1.         1.        ]\n",
      "0.9736842105263157\n"
     ]
    },
    {
     "data": {
      "text/plain": [
       "0.9777777777777777"
      ]
     },
     "execution_count": 9,
     "metadata": {},
     "output_type": "execute_result"
    }
   ],
   "source": [
    "#if kernel is made polynomial\n",
    "clf=svm.SVC(kernel='poly',C=1).fit(x_train,y_train)\n",
    "scores=cross_val_score(clf,iris.data,iris.target,cv=8)\n",
    "print(scores)\n",
    "print(scores.mean())\n",
    "clf.score(x_test,y_test)\n"
   ]
  },
  {
   "cell_type": "markdown",
   "id": "b34e09f6",
   "metadata": {},
   "source": [
    "The accuracy of the SVC model remains same as in case of linear kernel for a single train/test split. But when it comess to the cross_val_score it decreases. Hence polynomial kernel is overfitting."
   ]
  },
  {
   "cell_type": "code",
   "execution_count": 13,
   "id": "79574df0",
   "metadata": {},
   "outputs": [
    {
     "name": "stdout",
     "output_type": "stream",
     "text": [
      "[1.         1.         1.         0.94736842 0.94736842 0.89473684\n",
      " 1.         1.        ]\n",
      "0.9736842105263157\n"
     ]
    },
    {
     "data": {
      "text/plain": [
       "0.9777777777777777"
      ]
     },
     "execution_count": 13,
     "metadata": {},
     "output_type": "execute_result"
    }
   ],
   "source": [
    "#if kernel is made polynomial with degree 5- accuracy remains same\n",
    "clf=svm.SVC(kernel='poly',C=1,degree=5).fit(x_train,y_train)\n",
    "scores=cross_val_score(clf,iris.data,iris.target,cv=8)\n",
    "print(scores)\n",
    "print(scores.mean())\n",
    "clf.score(x_test,y_test)"
   ]
  },
  {
   "cell_type": "markdown",
   "id": "b9832708",
   "metadata": {},
   "source": [
    "# "
   ]
  }
 ],
 "metadata": {
  "kernelspec": {
   "display_name": "Python 3 (ipykernel)",
   "language": "python",
   "name": "python3"
  },
  "language_info": {
   "codemirror_mode": {
    "name": "ipython",
    "version": 3
   },
   "file_extension": ".py",
   "mimetype": "text/x-python",
   "name": "python",
   "nbconvert_exporter": "python",
   "pygments_lexer": "ipython3",
   "version": "3.9.13"
  }
 },
 "nbformat": 4,
 "nbformat_minor": 5
}
